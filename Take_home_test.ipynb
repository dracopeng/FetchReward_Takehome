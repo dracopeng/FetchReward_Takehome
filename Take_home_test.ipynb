{
 "cells": [
  {
   "cell_type": "code",
   "execution_count": 43,
   "metadata": {},
   "outputs": [],
   "source": [
    "import pandas as pd"
   ]
  },
  {
   "cell_type": "code",
   "execution_count": 44,
   "metadata": {},
   "outputs": [],
   "source": [
    "data_dir='./FetchReward_Takehome/data/FetchReward/'"
   ]
  },
  {
   "cell_type": "code",
   "execution_count": 45,
   "metadata": {},
   "outputs": [],
   "source": [
    "data_file= ['brands','receipts','users']"
   ]
  },
  {
   "cell_type": "code",
   "execution_count": 46,
   "metadata": {},
   "outputs": [],
   "source": [
    "brands_df = pd.read_json(data_dir+data_file[0]+'.json', lines=True)\n",
    "receipts_df = pd.read_json(data_dir+data_file[1]+'.json', lines=True)\n",
    "users_df=pd.read_json(data_dir+data_file[2]+'.json', lines=True)"
   ]
  },
  {
   "cell_type": "code",
   "execution_count": 61,
   "metadata": {},
   "outputs": [
    {
     "data": {
      "text/html": [
       "<div>\n",
       "<style scoped>\n",
       "    .dataframe tbody tr th:only-of-type {\n",
       "        vertical-align: middle;\n",
       "    }\n",
       "\n",
       "    .dataframe tbody tr th {\n",
       "        vertical-align: top;\n",
       "    }\n",
       "\n",
       "    .dataframe thead th {\n",
       "        text-align: right;\n",
       "    }\n",
       "</style>\n",
       "<table border=\"1\" class=\"dataframe\">\n",
       "  <thead>\n",
       "    <tr style=\"text-align: right;\">\n",
       "      <th></th>\n",
       "      <th>_id</th>\n",
       "      <th>barcode</th>\n",
       "      <th>category</th>\n",
       "      <th>categoryCode</th>\n",
       "      <th>cpg</th>\n",
       "      <th>name</th>\n",
       "      <th>topBrand</th>\n",
       "      <th>brandCode</th>\n",
       "    </tr>\n",
       "  </thead>\n",
       "  <tbody>\n",
       "    <tr>\n",
       "      <th>0</th>\n",
       "      <td>{'$oid': '601ac115be37ce2ead437551'}</td>\n",
       "      <td>511111019862</td>\n",
       "      <td>Baking</td>\n",
       "      <td>BAKING</td>\n",
       "      <td>{'$id': {'$oid': '601ac114be37ce2ead437550'}, ...</td>\n",
       "      <td>test brand @1612366101024</td>\n",
       "      <td>0.0</td>\n",
       "      <td>NaN</td>\n",
       "    </tr>\n",
       "    <tr>\n",
       "      <th>1</th>\n",
       "      <td>{'$oid': '601c5460be37ce2ead43755f'}</td>\n",
       "      <td>511111519928</td>\n",
       "      <td>Beverages</td>\n",
       "      <td>BEVERAGES</td>\n",
       "      <td>{'$id': {'$oid': '5332f5fbe4b03c9a25efd0ba'}, ...</td>\n",
       "      <td>Starbucks</td>\n",
       "      <td>0.0</td>\n",
       "      <td>STARBUCKS</td>\n",
       "    </tr>\n",
       "    <tr>\n",
       "      <th>2</th>\n",
       "      <td>{'$oid': '601ac142be37ce2ead43755d'}</td>\n",
       "      <td>511111819905</td>\n",
       "      <td>Baking</td>\n",
       "      <td>BAKING</td>\n",
       "      <td>{'$id': {'$oid': '601ac142be37ce2ead437559'}, ...</td>\n",
       "      <td>test brand @1612366146176</td>\n",
       "      <td>0.0</td>\n",
       "      <td>TEST BRANDCODE @1612366146176</td>\n",
       "    </tr>\n",
       "    <tr>\n",
       "      <th>3</th>\n",
       "      <td>{'$oid': '601ac142be37ce2ead43755a'}</td>\n",
       "      <td>511111519874</td>\n",
       "      <td>Baking</td>\n",
       "      <td>BAKING</td>\n",
       "      <td>{'$id': {'$oid': '601ac142be37ce2ead437559'}, ...</td>\n",
       "      <td>test brand @1612366146051</td>\n",
       "      <td>0.0</td>\n",
       "      <td>TEST BRANDCODE @1612366146051</td>\n",
       "    </tr>\n",
       "    <tr>\n",
       "      <th>4</th>\n",
       "      <td>{'$oid': '601ac142be37ce2ead43755e'}</td>\n",
       "      <td>511111319917</td>\n",
       "      <td>Candy &amp; Sweets</td>\n",
       "      <td>CANDY_AND_SWEETS</td>\n",
       "      <td>{'$id': {'$oid': '5332fa12e4b03c9a25efd1e7'}, ...</td>\n",
       "      <td>test brand @1612366146827</td>\n",
       "      <td>0.0</td>\n",
       "      <td>TEST BRANDCODE @1612366146827</td>\n",
       "    </tr>\n",
       "  </tbody>\n",
       "</table>\n",
       "</div>"
      ],
      "text/plain": [
       "                                    _id       barcode        category  \\\n",
       "0  {'$oid': '601ac115be37ce2ead437551'}  511111019862          Baking   \n",
       "1  {'$oid': '601c5460be37ce2ead43755f'}  511111519928       Beverages   \n",
       "2  {'$oid': '601ac142be37ce2ead43755d'}  511111819905          Baking   \n",
       "3  {'$oid': '601ac142be37ce2ead43755a'}  511111519874          Baking   \n",
       "4  {'$oid': '601ac142be37ce2ead43755e'}  511111319917  Candy & Sweets   \n",
       "\n",
       "       categoryCode                                                cpg  \\\n",
       "0            BAKING  {'$id': {'$oid': '601ac114be37ce2ead437550'}, ...   \n",
       "1         BEVERAGES  {'$id': {'$oid': '5332f5fbe4b03c9a25efd0ba'}, ...   \n",
       "2            BAKING  {'$id': {'$oid': '601ac142be37ce2ead437559'}, ...   \n",
       "3            BAKING  {'$id': {'$oid': '601ac142be37ce2ead437559'}, ...   \n",
       "4  CANDY_AND_SWEETS  {'$id': {'$oid': '5332fa12e4b03c9a25efd1e7'}, ...   \n",
       "\n",
       "                        name  topBrand                      brandCode  \n",
       "0  test brand @1612366101024       0.0                            NaN  \n",
       "1                  Starbucks       0.0                      STARBUCKS  \n",
       "2  test brand @1612366146176       0.0  TEST BRANDCODE @1612366146176  \n",
       "3  test brand @1612366146051       0.0  TEST BRANDCODE @1612366146051  \n",
       "4  test brand @1612366146827       0.0  TEST BRANDCODE @1612366146827  "
      ]
     },
     "execution_count": 61,
     "metadata": {},
     "output_type": "execute_result"
    }
   ],
   "source": [
    "brands_df.head()"
   ]
  },
  {
   "cell_type": "code",
   "execution_count": 52,
   "metadata": {},
   "outputs": [
    {
     "data": {
      "text/plain": [
       "<AxesSubplot:>"
      ]
     },
     "execution_count": 52,
     "metadata": {},
     "output_type": "execute_result"
    },
    {
     "data": {
      "image/png": "[encoded data removed]",
      "text/plain": [
       "<Figure size 432x288 with 1 Axes>"
      ]
     },
     "metadata": {
      "needs_background": "light"
     },
     "output_type": "display_data"
    }
   ],
   "source": [
    "brands_df.isna().sum().plot(kind='bar')"
   ]
  },
  {
   "cell_type": "code",
   "execution_count": 62,
   "metadata": {},
   "outputs": [
    {
     "data": {
      "text/plain": [
       "0.0    524\n",
       "1.0     31\n",
       "Name: topBrand, dtype: int64"
      ]
     },
     "execution_count": 62,
     "metadata": {},
     "output_type": "execute_result"
    }
   ],
   "source": [
    "brands_df.topBrand.value_counts()"
   ]
  },
  {
   "cell_type": "code",
   "execution_count": 55,
   "metadata": {},
   "outputs": [
    {
     "data": {
      "text/html": [
       "<div>\n",
       "<style scoped>\n",
       "    .dataframe tbody tr th:only-of-type {\n",
       "        vertical-align: middle;\n",
       "    }\n",
       "\n",
       "    .dataframe tbody tr th {\n",
       "        vertical-align: top;\n",
       "    }\n",
       "\n",
       "    .dataframe thead th {\n",
       "        text-align: right;\n",
       "    }\n",
       "</style>\n",
       "<table border=\"1\" class=\"dataframe\">\n",
       "  <thead>\n",
       "    <tr style=\"text-align: right;\">\n",
       "      <th></th>\n",
       "      <th>_id</th>\n",
       "      <th>bonusPointsEarned</th>\n",
       "      <th>bonusPointsEarnedReason</th>\n",
       "      <th>createDate</th>\n",
       "      <th>dateScanned</th>\n",
       "      <th>finishedDate</th>\n",
       "      <th>modifyDate</th>\n",
       "      <th>pointsAwardedDate</th>\n",
       "      <th>pointsEarned</th>\n",
       "      <th>purchaseDate</th>\n",
       "      <th>purchasedItemCount</th>\n",
       "      <th>rewardsReceiptItemList</th>\n",
       "      <th>rewardsReceiptStatus</th>\n",
       "      <th>totalSpent</th>\n",
       "      <th>userId</th>\n",
       "    </tr>\n",
       "  </thead>\n",
       "  <tbody>\n",
       "    <tr>\n",
       "      <th>0</th>\n",
       "      <td>{'$oid': '5ff1e1eb0a720f0523000575'}</td>\n",
       "      <td>500.0</td>\n",
       "      <td>Receipt number 2 completed, bonus point schedu...</td>\n",
       "      <td>{'$date': 1609687531000}</td>\n",
       "      <td>{'$date': 1609687531000}</td>\n",
       "      <td>{'$date': 1609687531000}</td>\n",
       "      <td>{'$date': 1609687536000}</td>\n",
       "      <td>{'$date': 1609687531000}</td>\n",
       "      <td>500.0</td>\n",
       "      <td>{'$date': 1609632000000}</td>\n",
       "      <td>5.0</td>\n",
       "      <td>[{'barcode': '4011', 'description': 'ITEM NOT ...</td>\n",
       "      <td>FINISHED</td>\n",
       "      <td>26.0</td>\n",
       "      <td>5ff1e1eacfcf6c399c274ae6</td>\n",
       "    </tr>\n",
       "    <tr>\n",
       "      <th>1</th>\n",
       "      <td>{'$oid': '5ff1e1bb0a720f052300056b'}</td>\n",
       "      <td>150.0</td>\n",
       "      <td>Receipt number 5 completed, bonus point schedu...</td>\n",
       "      <td>{'$date': 1609687483000}</td>\n",
       "      <td>{'$date': 1609687483000}</td>\n",
       "      <td>{'$date': 1609687483000}</td>\n",
       "      <td>{'$date': 1609687488000}</td>\n",
       "      <td>{'$date': 1609687483000}</td>\n",
       "      <td>150.0</td>\n",
       "      <td>{'$date': 1609601083000}</td>\n",
       "      <td>2.0</td>\n",
       "      <td>[{'barcode': '4011', 'description': 'ITEM NOT ...</td>\n",
       "      <td>FINISHED</td>\n",
       "      <td>11.0</td>\n",
       "      <td>5ff1e194b6a9d73a3a9f1052</td>\n",
       "    </tr>\n",
       "    <tr>\n",
       "      <th>2</th>\n",
       "      <td>{'$oid': '5ff1e1f10a720f052300057a'}</td>\n",
       "      <td>5.0</td>\n",
       "      <td>All-receipts receipt bonus</td>\n",
       "      <td>{'$date': 1609687537000}</td>\n",
       "      <td>{'$date': 1609687537000}</td>\n",
       "      <td>NaN</td>\n",
       "      <td>{'$date': 1609687542000}</td>\n",
       "      <td>NaN</td>\n",
       "      <td>5.0</td>\n",
       "      <td>{'$date': 1609632000000}</td>\n",
       "      <td>1.0</td>\n",
       "      <td>[{'needsFetchReview': False, 'partnerItemId': ...</td>\n",
       "      <td>REJECTED</td>\n",
       "      <td>10.0</td>\n",
       "      <td>5ff1e1f1cfcf6c399c274b0b</td>\n",
       "    </tr>\n",
       "    <tr>\n",
       "      <th>3</th>\n",
       "      <td>{'$oid': '5ff1e1ee0a7214ada100056f'}</td>\n",
       "      <td>5.0</td>\n",
       "      <td>All-receipts receipt bonus</td>\n",
       "      <td>{'$date': 1609687534000}</td>\n",
       "      <td>{'$date': 1609687534000}</td>\n",
       "      <td>{'$date': 1609687534000}</td>\n",
       "      <td>{'$date': 1609687539000}</td>\n",
       "      <td>{'$date': 1609687534000}</td>\n",
       "      <td>5.0</td>\n",
       "      <td>{'$date': 1609632000000}</td>\n",
       "      <td>4.0</td>\n",
       "      <td>[{'barcode': '4011', 'description': 'ITEM NOT ...</td>\n",
       "      <td>FINISHED</td>\n",
       "      <td>28.0</td>\n",
       "      <td>5ff1e1eacfcf6c399c274ae6</td>\n",
       "    </tr>\n",
       "    <tr>\n",
       "      <th>4</th>\n",
       "      <td>{'$oid': '5ff1e1d20a7214ada1000561'}</td>\n",
       "      <td>5.0</td>\n",
       "      <td>All-receipts receipt bonus</td>\n",
       "      <td>{'$date': 1609687506000}</td>\n",
       "      <td>{'$date': 1609687506000}</td>\n",
       "      <td>{'$date': 1609687511000}</td>\n",
       "      <td>{'$date': 1609687511000}</td>\n",
       "      <td>{'$date': 1609687506000}</td>\n",
       "      <td>5.0</td>\n",
       "      <td>{'$date': 1609601106000}</td>\n",
       "      <td>2.0</td>\n",
       "      <td>[{'barcode': '4011', 'description': 'ITEM NOT ...</td>\n",
       "      <td>FINISHED</td>\n",
       "      <td>1.0</td>\n",
       "      <td>5ff1e194b6a9d73a3a9f1052</td>\n",
       "    </tr>\n",
       "  </tbody>\n",
       "</table>\n",
       "</div>"
      ],
      "text/plain": [
       "                                    _id  bonusPointsEarned  \\\n",
       "0  {'$oid': '5ff1e1eb0a720f0523000575'}              500.0   \n",
       "1  {'$oid': '5ff1e1bb0a720f052300056b'}              150.0   \n",
       "2  {'$oid': '5ff1e1f10a720f052300057a'}                5.0   \n",
       "3  {'$oid': '5ff1e1ee0a7214ada100056f'}                5.0   \n",
       "4  {'$oid': '5ff1e1d20a7214ada1000561'}                5.0   \n",
       "\n",
       "                             bonusPointsEarnedReason  \\\n",
       "0  Receipt number 2 completed, bonus point schedu...   \n",
       "1  Receipt number 5 completed, bonus point schedu...   \n",
       "2                         All-receipts receipt bonus   \n",
       "3                         All-receipts receipt bonus   \n",
       "4                         All-receipts receipt bonus   \n",
       "\n",
       "                 createDate               dateScanned  \\\n",
       "0  {'$date': 1609687531000}  {'$date': 1609687531000}   \n",
       "1  {'$date': 1609687483000}  {'$date': 1609687483000}   \n",
       "2  {'$date': 1609687537000}  {'$date': 1609687537000}   \n",
       "3  {'$date': 1609687534000}  {'$date': 1609687534000}   \n",
       "4  {'$date': 1609687506000}  {'$date': 1609687506000}   \n",
       "\n",
       "               finishedDate                modifyDate  \\\n",
       "0  {'$date': 1609687531000}  {'$date': 1609687536000}   \n",
       "1  {'$date': 1609687483000}  {'$date': 1609687488000}   \n",
       "2                       NaN  {'$date': 1609687542000}   \n",
       "3  {'$date': 1609687534000}  {'$date': 1609687539000}   \n",
       "4  {'$date': 1609687511000}  {'$date': 1609687511000}   \n",
       "\n",
       "          pointsAwardedDate  pointsEarned              purchaseDate  \\\n",
       "0  {'$date': 1609687531000}         500.0  {'$date': 1609632000000}   \n",
       "1  {'$date': 1609687483000}         150.0  {'$date': 1609601083000}   \n",
       "2                       NaN           5.0  {'$date': 1609632000000}   \n",
       "3  {'$date': 1609687534000}           5.0  {'$date': 1609632000000}   \n",
       "4  {'$date': 1609687506000}           5.0  {'$date': 1609601106000}   \n",
       "\n",
       "   purchasedItemCount                             rewardsReceiptItemList  \\\n",
       "0                 5.0  [{'barcode': '4011', 'description': 'ITEM NOT ...   \n",
       "1                 2.0  [{'barcode': '4011', 'description': 'ITEM NOT ...   \n",
       "2                 1.0  [{'needsFetchReview': False, 'partnerItemId': ...   \n",
       "3                 4.0  [{'barcode': '4011', 'description': 'ITEM NOT ...   \n",
       "4                 2.0  [{'barcode': '4011', 'description': 'ITEM NOT ...   \n",
       "\n",
       "  rewardsReceiptStatus  totalSpent                    userId  \n",
       "0             FINISHED        26.0  5ff1e1eacfcf6c399c274ae6  \n",
       "1             FINISHED        11.0  5ff1e194b6a9d73a3a9f1052  \n",
       "2             REJECTED        10.0  5ff1e1f1cfcf6c399c274b0b  \n",
       "3             FINISHED        28.0  5ff1e1eacfcf6c399c274ae6  \n",
       "4             FINISHED         1.0  5ff1e194b6a9d73a3a9f1052  "
      ]
     },
     "execution_count": 55,
     "metadata": {},
     "output_type": "execute_result"
    }
   ],
   "source": [
    "receipts_df.head(5)"
   ]
  },
  {
   "cell_type": "code",
   "execution_count": 69,
   "metadata": {},
   "outputs": [
    {
     "data": {
      "text/plain": [
       "<AxesSubplot:>"
      ]
     },
     "execution_count": 69,
     "metadata": {},
     "output_type": "execute_result"
    },
    {
     "data": {
      "image/png": "[encoded data removed]",
      "text/plain": [
       "<Figure size 432x288 with 1 Axes>"
      ]
     },
     "metadata": {
      "needs_background": "light"
     },
     "output_type": "display_data"
    }
   ],
   "source": [
    "receipts_df[receipts_df['rewardsReceiptStatus']=='FINISHED'].isna().sum().plot(kind='bar')"
   ]
  },
  {
   "cell_type": "code",
   "execution_count": 66,
   "metadata": {},
   "outputs": [
    {
     "data": {
      "text/plain": [
       "array([500., 150.,   5., 750., 250., 100., 300.,  nan,  40.,  25.,  45.,\n",
       "        27.,  21.])"
      ]
     },
     "execution_count": 66,
     "metadata": {},
     "output_type": "execute_result"
    }
   ],
   "source": [
    "receipts_df.bonusPointsEarned.unique()"
   ]
  },
  {
   "cell_type": "code",
   "execution_count": 67,
   "metadata": {},
   "outputs": [
    {
     "data": {
      "text/plain": [
       "5.0      183\n",
       "750.0    119\n",
       "25.0      71\n",
       "45.0      31\n",
       "250.0     31\n",
       "500.0     30\n",
       "150.0     27\n",
       "300.0     26\n",
       "100.0     18\n",
       "27.0       6\n",
       "21.0       1\n",
       "40.0       1\n",
       "Name: bonusPointsEarned, dtype: int64"
      ]
     },
     "execution_count": 67,
     "metadata": {},
     "output_type": "execute_result"
    }
   ],
   "source": [
    "receipts_df.bonusPointsEarned.value_counts()"
   ]
  },
  {
   "cell_type": "code",
   "execution_count": 70,
   "metadata": {},
   "outputs": [
    {
     "data": {
      "text/plain": [
       "FINISHED     518\n",
       "SUBMITTED    434\n",
       "REJECTED      71\n",
       "PENDING       50\n",
       "FLAGGED       46\n",
       "Name: rewardsReceiptStatus, dtype: int64"
      ]
     },
     "execution_count": 70,
     "metadata": {},
     "output_type": "execute_result"
    }
   ],
   "source": [
    "receipts_df.rewardsReceiptStatus.value_counts()"
   ]
  },
  {
   "cell_type": "code",
   "execution_count": 54,
   "metadata": {},
   "outputs": [
    {
     "data": {
      "text/plain": [
       "0       [{'barcode': '4011', 'description': 'ITEM NOT ...\n",
       "1       [{'barcode': '4011', 'description': 'ITEM NOT ...\n",
       "2       [{'needsFetchReview': False, 'partnerItemId': ...\n",
       "3       [{'barcode': '4011', 'description': 'ITEM NOT ...\n",
       "4       [{'barcode': '4011', 'description': 'ITEM NOT ...\n",
       "                              ...                        \n",
       "1114    [{'barcode': 'B076FJ92M4', 'description': 'mue...\n",
       "1115                                                  NaN\n",
       "1116                                                  NaN\n",
       "1117    [{'barcode': 'B076FJ92M4', 'description': 'mue...\n",
       "1118                                                  NaN\n",
       "Name: rewardsReceiptItemList, Length: 1119, dtype: object"
      ]
     },
     "execution_count": 54,
     "metadata": {},
     "output_type": "execute_result"
    }
   ],
   "source": [
    "receipts_df.rewardsReceiptItemList"
   ]
  },
  {
   "cell_type": "code",
   "execution_count": 49,
   "metadata": {},
   "outputs": [
    {
     "data": {
      "text/html": [
       "<div>\n",
       "<style scoped>\n",
       "    .dataframe tbody tr th:only-of-type {\n",
       "        vertical-align: middle;\n",
       "    }\n",
       "\n",
       "    .dataframe tbody tr th {\n",
       "        vertical-align: top;\n",
       "    }\n",
       "\n",
       "    .dataframe thead th {\n",
       "        text-align: right;\n",
       "    }\n",
       "</style>\n",
       "<table border=\"1\" class=\"dataframe\">\n",
       "  <thead>\n",
       "    <tr style=\"text-align: right;\">\n",
       "      <th></th>\n",
       "      <th>_id</th>\n",
       "      <th>active</th>\n",
       "      <th>createdDate</th>\n",
       "      <th>lastLogin</th>\n",
       "      <th>role</th>\n",
       "      <th>signUpSource</th>\n",
       "      <th>state</th>\n",
       "    </tr>\n",
       "  </thead>\n",
       "  <tbody>\n",
       "    <tr>\n",
       "      <th>0</th>\n",
       "      <td>{'$oid': '5ff1e194b6a9d73a3a9f1052'}</td>\n",
       "      <td>True</td>\n",
       "      <td>{'$date': 1609687444800}</td>\n",
       "      <td>{'$date': 1609687537858}</td>\n",
       "      <td>consumer</td>\n",
       "      <td>Email</td>\n",
       "      <td>WI</td>\n",
       "    </tr>\n",
       "    <tr>\n",
       "      <th>1</th>\n",
       "      <td>{'$oid': '5ff1e194b6a9d73a3a9f1052'}</td>\n",
       "      <td>True</td>\n",
       "      <td>{'$date': 1609687444800}</td>\n",
       "      <td>{'$date': 1609687537858}</td>\n",
       "      <td>consumer</td>\n",
       "      <td>Email</td>\n",
       "      <td>WI</td>\n",
       "    </tr>\n",
       "    <tr>\n",
       "      <th>2</th>\n",
       "      <td>{'$oid': '5ff1e194b6a9d73a3a9f1052'}</td>\n",
       "      <td>True</td>\n",
       "      <td>{'$date': 1609687444800}</td>\n",
       "      <td>{'$date': 1609687537858}</td>\n",
       "      <td>consumer</td>\n",
       "      <td>Email</td>\n",
       "      <td>WI</td>\n",
       "    </tr>\n",
       "    <tr>\n",
       "      <th>3</th>\n",
       "      <td>{'$oid': '5ff1e1eacfcf6c399c274ae6'}</td>\n",
       "      <td>True</td>\n",
       "      <td>{'$date': 1609687530554}</td>\n",
       "      <td>{'$date': 1609687530597}</td>\n",
       "      <td>consumer</td>\n",
       "      <td>Email</td>\n",
       "      <td>WI</td>\n",
       "    </tr>\n",
       "    <tr>\n",
       "      <th>4</th>\n",
       "      <td>{'$oid': '5ff1e194b6a9d73a3a9f1052'}</td>\n",
       "      <td>True</td>\n",
       "      <td>{'$date': 1609687444800}</td>\n",
       "      <td>{'$date': 1609687537858}</td>\n",
       "      <td>consumer</td>\n",
       "      <td>Email</td>\n",
       "      <td>WI</td>\n",
       "    </tr>\n",
       "    <tr>\n",
       "      <th>...</th>\n",
       "      <td>...</td>\n",
       "      <td>...</td>\n",
       "      <td>...</td>\n",
       "      <td>...</td>\n",
       "      <td>...</td>\n",
       "      <td>...</td>\n",
       "      <td>...</td>\n",
       "    </tr>\n",
       "    <tr>\n",
       "      <th>490</th>\n",
       "      <td>{'$oid': '54943462e4b07e684157a532'}</td>\n",
       "      <td>True</td>\n",
       "      <td>{'$date': 1418998882381}</td>\n",
       "      <td>{'$date': 1614963143204}</td>\n",
       "      <td>fetch-staff</td>\n",
       "      <td>NaN</td>\n",
       "      <td>NaN</td>\n",
       "    </tr>\n",
       "    <tr>\n",
       "      <th>491</th>\n",
       "      <td>{'$oid': '54943462e4b07e684157a532'}</td>\n",
       "      <td>True</td>\n",
       "      <td>{'$date': 1418998882381}</td>\n",
       "      <td>{'$date': 1614963143204}</td>\n",
       "      <td>fetch-staff</td>\n",
       "      <td>NaN</td>\n",
       "      <td>NaN</td>\n",
       "    </tr>\n",
       "    <tr>\n",
       "      <th>492</th>\n",
       "      <td>{'$oid': '54943462e4b07e684157a532'}</td>\n",
       "      <td>True</td>\n",
       "      <td>{'$date': 1418998882381}</td>\n",
       "      <td>{'$date': 1614963143204}</td>\n",
       "      <td>fetch-staff</td>\n",
       "      <td>NaN</td>\n",
       "      <td>NaN</td>\n",
       "    </tr>\n",
       "    <tr>\n",
       "      <th>493</th>\n",
       "      <td>{'$oid': '54943462e4b07e684157a532'}</td>\n",
       "      <td>True</td>\n",
       "      <td>{'$date': 1418998882381}</td>\n",
       "      <td>{'$date': 1614963143204}</td>\n",
       "      <td>fetch-staff</td>\n",
       "      <td>NaN</td>\n",
       "      <td>NaN</td>\n",
       "    </tr>\n",
       "    <tr>\n",
       "      <th>494</th>\n",
       "      <td>{'$oid': '54943462e4b07e684157a532'}</td>\n",
       "      <td>True</td>\n",
       "      <td>{'$date': 1418998882381}</td>\n",
       "      <td>{'$date': 1614963143204}</td>\n",
       "      <td>fetch-staff</td>\n",
       "      <td>NaN</td>\n",
       "      <td>NaN</td>\n",
       "    </tr>\n",
       "  </tbody>\n",
       "</table>\n",
       "<p>495 rows × 7 columns</p>\n",
       "</div>"
      ],
      "text/plain": [
       "                                      _id  active               createdDate  \\\n",
       "0    {'$oid': '5ff1e194b6a9d73a3a9f1052'}    True  {'$date': 1609687444800}   \n",
       "1    {'$oid': '5ff1e194b6a9d73a3a9f1052'}    True  {'$date': 1609687444800}   \n",
       "2    {'$oid': '5ff1e194b6a9d73a3a9f1052'}    True  {'$date': 1609687444800}   \n",
       "3    {'$oid': '5ff1e1eacfcf6c399c274ae6'}    True  {'$date': 1609687530554}   \n",
       "4    {'$oid': '5ff1e194b6a9d73a3a9f1052'}    True  {'$date': 1609687444800}   \n",
       "..                                    ...     ...                       ...   \n",
       "490  {'$oid': '54943462e4b07e684157a532'}    True  {'$date': 1418998882381}   \n",
       "491  {'$oid': '54943462e4b07e684157a532'}    True  {'$date': 1418998882381}   \n",
       "492  {'$oid': '54943462e4b07e684157a532'}    True  {'$date': 1418998882381}   \n",
       "493  {'$oid': '54943462e4b07e684157a532'}    True  {'$date': 1418998882381}   \n",
       "494  {'$oid': '54943462e4b07e684157a532'}    True  {'$date': 1418998882381}   \n",
       "\n",
       "                    lastLogin         role signUpSource state  \n",
       "0    {'$date': 1609687537858}     consumer        Email    WI  \n",
       "1    {'$date': 1609687537858}     consumer        Email    WI  \n",
       "2    {'$date': 1609687537858}     consumer        Email    WI  \n",
       "3    {'$date': 1609687530597}     consumer        Email    WI  \n",
       "4    {'$date': 1609687537858}     consumer        Email    WI  \n",
       "..                        ...          ...          ...   ...  \n",
       "490  {'$date': 1614963143204}  fetch-staff          NaN   NaN  \n",
       "491  {'$date': 1614963143204}  fetch-staff          NaN   NaN  \n",
       "492  {'$date': 1614963143204}  fetch-staff          NaN   NaN  \n",
       "493  {'$date': 1614963143204}  fetch-staff          NaN   NaN  \n",
       "494  {'$date': 1614963143204}  fetch-staff          NaN   NaN  \n",
       "\n",
       "[495 rows x 7 columns]"
      ]
     },
     "execution_count": 49,
     "metadata": {},
     "output_type": "execute_result"
    }
   ],
   "source": [
    "users_df"
   ]
  },
  {
   "cell_type": "code",
   "execution_count": 51,
   "metadata": {},
   "outputs": [
    {
     "data": {
      "text/plain": [
       "<AxesSubplot:>"
      ]
     },
     "execution_count": 51,
     "metadata": {},
     "output_type": "execute_result"
    },
    {
     "data": {
      "image/png": "[encoded data removed]",
      "text/plain": [
       "<Figure size 432x288 with 1 Axes>"
      ]
     },
     "metadata": {
      "needs_background": "light"
     },
     "output_type": "display_data"
    }
   ],
   "source": [
    "users_df.isna().sum().plot(kind='bar')"
   ]
  },
  {
   "cell_type": "markdown",
   "metadata": {},
   "source": [
    "## 4 - Neural Network model\n",
    "\n",
    "Logistic regression did not work well on the \"flower dataset\". You are going to train a Neural Network with a single hidden layer.\n",
    "\n",
    "**Here is our model**:\n",
    "<!-- <img src=\"images/classification_kiank.png\" style=\"width:600px;height:300px;\"> -->\n"
   ]
  },
  {
   "cell_type": "markdown",
   "metadata": {},
   "source": [
    "# Fetch Rewards Coding Exercise\n",
    "\n",
    "**To do list:**\n",
    "- Review unstructured JSON data and diagram a new structured relational data model\n",
    "- Generate a query that answers a predetermined business question\n",
    "- Generate a query to capture data quality issues against the new structured relational data model\n",
    "- Write a short email or Slack message to the business stakeholder\n"
   ]
  },
  {
   "cell_type": "markdown",
   "metadata": {},
   "source": [
    "## Part 1. Review Existing Unstructured Data and Diagram a New Structured Relational Data Model"
   ]
  },
  {
   "cell_type": "markdown",
   "metadata": {},
   "source": [
    "Here is my new structured relational data model ER diagram:<br>\n",
    "<img src=\"image/ER-gram.jpg\" style=\"width:600px;height:300px;\"><br>\n",
    "First table is Users. It has user_id as primary key and the created_date for this user.<br>\n",
    "CREATE TABLE Users(<br>\n",
    "\\_id integer primary key,<br>\n",
    "created_date datetime,<br>\n",
    ");<br>\n",
    "\n",
    "Second table is Brands. It has brand_id as primary key and the topBrand column to note if the brand is topBrand or not.<br>\n",
    "CREATE TABLE Brands(<br>\n",
    "\\_id integer primary key,<br>\n",
    "topBrand boolean,<br>\n",
    ");<br>\n",
    "\n",
    "Third table is Receipts. It has receipt_id as primary key. users_id as foreign key referenced to Users table. The other date_scanned\n",
    "CREATE TABLE Receipts(<br>\n",
    "\\_id integer primary key,<br>\n",
    "users_id integer,<br>\n",
    "date_scanned datetime,<br>\n",
    "date_purchased datetime,<br>\n",
    "total_number_purchased integer,<br>\n",
    "total_spent float,<br>\n",
    "reward_receipt_status enum,<br>\n",
    ");<br>\n",
    "\n",
    "CREATE TABLE Purchases(<br>\n",
    "receipt_id integer,<br>\n",
    "brand_id integer,<br>\n",
    "quantity,<br>\n",
    "spent,<br>\n",
    ");<br>"
   ]
  },
  {
   "cell_type": "markdown",
   "metadata": {},
   "source": [
    "## Part 2. Write a query that directly answers a predetermined question from a business stakeholder"
   ]
  },
  {
   "cell_type": "markdown",
   "metadata": {},
   "source": [
    "### Question: What are the top 5 brands by receipts scanned for most recent month?\n",
    "Here we will count across recent month for each brands that each brand is scanned. I put specific dates just to simplify.<BR>\n",
    "SQL query:<br>\n",
    "SELECT p.brand_id, count(*) AS 'freq_scanned'<BR>\n",
    "FROM receipts r JOIN purchases p ON r._id=p.receipt_id<BR>\n",
    "WHERE date_scanned BETWEEN '2021-06-01' AND '2021-07-01' <BR>\n",
    "GROUP BY p.brand_id<BR>\n",
    "ORDER BY freq_scanned DESC<BR>\n",
    "LIMIT 5<BR>"
   ]
  },
  {
   "cell_type": "markdown",
   "metadata": {},
   "source": [
    "### Question: How does the ranking of the top 5 brands by receipts scanned for the recent month compare to the ranking for the previous month?\n",
    "We can use subquery of the previous month with brand_id and the freq_scanned join with the current month result. Then use window function rank to compare.\n",
    "\n",
    "SQL query: <>\n",
    "SELECT T1.brand_id, rank() over (order by T1.freq_scanned) as 'Recent_month_rank', rank() over (order by T2.freq_scanned) as 'Previous_month_rank' <BR>\n",
    "FROM (<BR>\n",
    "   SELECT p.brand_id, count(\\*) AS 'freq_scanned'<BR>\n",
    "   FROM receipts r JOIN purchases p ON r._id=p.receipt_id<BR>\n",
    "   WHERE date_scanned BETWEEN '2021-06-01' AND '2021-07-01' <BR>\n",
    "   GROUP BY p.brand_id<BR>\n",
    "   ORDER BY freq_scanned DESC) T1 <BR>\n",
    "   JOIN (<BR>\n",
    "   SELECT p.brand_id, count(\\*) AS 'freq_scanned'<BR>\n",
    "   FROM receipts r JOIN purchases p ON r._id=p.receipt_id<BR>\n",
    "   WHERE date_scanned BETWEEN '2021-05-01' AND '2021-06-01' <BR>\n",
    "   GROUP BY p.brand_id<BR>\n",
    "   ORDER BY freq_scanned DESC) T2 ON T1.brand_id=T2.brand_id<BR>\n",
    "    "
   ]
  },
  {
   "cell_type": "markdown",
   "metadata": {},
   "source": [
    "## Part 3. Evaluate Data Quality Issues in the Data Provided"
   ]
  },
  {
   "cell_type": "markdown",
   "metadata": {},
   "source": [
    "First of all, we need to read in json files and check if what the data looks like."
   ]
  },
  {
   "cell_type": "code",
   "execution_count": 73,
   "metadata": {},
   "outputs": [],
   "source": [
    "import pandas as pd\n",
    "data_dir='./FetchReward_Takehome/data/FetchReward/'\n",
    "data_file= ['brands','receipts','users']\n",
    "brands_df = pd.read_json(data_dir+data_file[0]+'.json', lines=True)\n",
    "receipts_df = pd.read_json(data_dir+data_file[1]+'.json', lines=True)\n",
    "users_df=pd.read_json(data_dir+data_file[2]+'.json', lines=True)"
   ]
  },
  {
   "cell_type": "code",
   "execution_count": 76,
   "metadata": {},
   "outputs": [
    {
     "data": {
      "text/html": [
       "<div>\n",
       "<style scoped>\n",
       "    .dataframe tbody tr th:only-of-type {\n",
       "        vertical-align: middle;\n",
       "    }\n",
       "\n",
       "    .dataframe tbody tr th {\n",
       "        vertical-align: top;\n",
       "    }\n",
       "\n",
       "    .dataframe thead th {\n",
       "        text-align: right;\n",
       "    }\n",
       "</style>\n",
       "<table border=\"1\" class=\"dataframe\">\n",
       "  <thead>\n",
       "    <tr style=\"text-align: right;\">\n",
       "      <th></th>\n",
       "      <th>_id</th>\n",
       "      <th>barcode</th>\n",
       "      <th>category</th>\n",
       "      <th>categoryCode</th>\n",
       "      <th>cpg</th>\n",
       "      <th>name</th>\n",
       "      <th>topBrand</th>\n",
       "      <th>brandCode</th>\n",
       "    </tr>\n",
       "  </thead>\n",
       "  <tbody>\n",
       "    <tr>\n",
       "      <th>0</th>\n",
       "      <td>{'$oid': '601ac115be37ce2ead437551'}</td>\n",
       "      <td>511111019862</td>\n",
       "      <td>Baking</td>\n",
       "      <td>BAKING</td>\n",
       "      <td>{'$id': {'$oid': '601ac114be37ce2ead437550'}, ...</td>\n",
       "      <td>test brand @1612366101024</td>\n",
       "      <td>0.0</td>\n",
       "      <td>NaN</td>\n",
       "    </tr>\n",
       "    <tr>\n",
       "      <th>1</th>\n",
       "      <td>{'$oid': '601c5460be37ce2ead43755f'}</td>\n",
       "      <td>511111519928</td>\n",
       "      <td>Beverages</td>\n",
       "      <td>BEVERAGES</td>\n",
       "      <td>{'$id': {'$oid': '5332f5fbe4b03c9a25efd0ba'}, ...</td>\n",
       "      <td>Starbucks</td>\n",
       "      <td>0.0</td>\n",
       "      <td>STARBUCKS</td>\n",
       "    </tr>\n",
       "    <tr>\n",
       "      <th>2</th>\n",
       "      <td>{'$oid': '601ac142be37ce2ead43755d'}</td>\n",
       "      <td>511111819905</td>\n",
       "      <td>Baking</td>\n",
       "      <td>BAKING</td>\n",
       "      <td>{'$id': {'$oid': '601ac142be37ce2ead437559'}, ...</td>\n",
       "      <td>test brand @1612366146176</td>\n",
       "      <td>0.0</td>\n",
       "      <td>TEST BRANDCODE @1612366146176</td>\n",
       "    </tr>\n",
       "    <tr>\n",
       "      <th>3</th>\n",
       "      <td>{'$oid': '601ac142be37ce2ead43755a'}</td>\n",
       "      <td>511111519874</td>\n",
       "      <td>Baking</td>\n",
       "      <td>BAKING</td>\n",
       "      <td>{'$id': {'$oid': '601ac142be37ce2ead437559'}, ...</td>\n",
       "      <td>test brand @1612366146051</td>\n",
       "      <td>0.0</td>\n",
       "      <td>TEST BRANDCODE @1612366146051</td>\n",
       "    </tr>\n",
       "    <tr>\n",
       "      <th>4</th>\n",
       "      <td>{'$oid': '601ac142be37ce2ead43755e'}</td>\n",
       "      <td>511111319917</td>\n",
       "      <td>Candy &amp; Sweets</td>\n",
       "      <td>CANDY_AND_SWEETS</td>\n",
       "      <td>{'$id': {'$oid': '5332fa12e4b03c9a25efd1e7'}, ...</td>\n",
       "      <td>test brand @1612366146827</td>\n",
       "      <td>0.0</td>\n",
       "      <td>TEST BRANDCODE @1612366146827</td>\n",
       "    </tr>\n",
       "    <tr>\n",
       "      <th>...</th>\n",
       "      <td>...</td>\n",
       "      <td>...</td>\n",
       "      <td>...</td>\n",
       "      <td>...</td>\n",
       "      <td>...</td>\n",
       "      <td>...</td>\n",
       "      <td>...</td>\n",
       "      <td>...</td>\n",
       "    </tr>\n",
       "    <tr>\n",
       "      <th>1162</th>\n",
       "      <td>{'$oid': '5f77274dbe37ce6b592e90c0'}</td>\n",
       "      <td>511111116752</td>\n",
       "      <td>Baking</td>\n",
       "      <td>BAKING</td>\n",
       "      <td>{'$ref': 'Cogs', '$id': {'$oid': '5f77274dbe37...</td>\n",
       "      <td>test brand @1601644365844</td>\n",
       "      <td>NaN</td>\n",
       "      <td>NaN</td>\n",
       "    </tr>\n",
       "    <tr>\n",
       "      <th>1163</th>\n",
       "      <td>{'$oid': '5dc1fca91dda2c0ad7da64ae'}</td>\n",
       "      <td>511111706328</td>\n",
       "      <td>Breakfast &amp; Cereal</td>\n",
       "      <td>NaN</td>\n",
       "      <td>{'$ref': 'Cogs', '$id': {'$oid': '53e10d6368ab...</td>\n",
       "      <td>Dippin Dots® Cereal</td>\n",
       "      <td>NaN</td>\n",
       "      <td>DIPPIN DOTS CEREAL</td>\n",
       "    </tr>\n",
       "    <tr>\n",
       "      <th>1164</th>\n",
       "      <td>{'$oid': '5f494c6e04db711dd8fe87e7'}</td>\n",
       "      <td>511111416173</td>\n",
       "      <td>Candy &amp; Sweets</td>\n",
       "      <td>CANDY_AND_SWEETS</td>\n",
       "      <td>{'$ref': 'Cogs', '$id': {'$oid': '5332fa12e4b0...</td>\n",
       "      <td>test brand @1598639215217</td>\n",
       "      <td>NaN</td>\n",
       "      <td>TEST BRANDCODE @1598639215217</td>\n",
       "    </tr>\n",
       "    <tr>\n",
       "      <th>1165</th>\n",
       "      <td>{'$oid': '5a021611e4b00efe02b02a57'}</td>\n",
       "      <td>511111400608</td>\n",
       "      <td>Grocery</td>\n",
       "      <td>NaN</td>\n",
       "      <td>{'$ref': 'Cogs', '$id': {'$oid': '5332f5f6e4b0...</td>\n",
       "      <td>LIPTON TEA Leaves</td>\n",
       "      <td>0.0</td>\n",
       "      <td>LIPTON TEA Leaves</td>\n",
       "    </tr>\n",
       "    <tr>\n",
       "      <th>1166</th>\n",
       "      <td>{'$oid': '6026d757be37ce6369301468'}</td>\n",
       "      <td>511111019930</td>\n",
       "      <td>Baking</td>\n",
       "      <td>BAKING</td>\n",
       "      <td>{'$id': {'$oid': '6026d757be37ce6369301467'}, ...</td>\n",
       "      <td>test brand @1613158231643</td>\n",
       "      <td>0.0</td>\n",
       "      <td>TEST BRANDCODE @1613158231644</td>\n",
       "    </tr>\n",
       "  </tbody>\n",
       "</table>\n",
       "<p>1167 rows × 8 columns</p>\n",
       "</div>"
      ],
      "text/plain": [
       "                                       _id       barcode            category  \\\n",
       "0     {'$oid': '601ac115be37ce2ead437551'}  511111019862              Baking   \n",
       "1     {'$oid': '601c5460be37ce2ead43755f'}  511111519928           Beverages   \n",
       "2     {'$oid': '601ac142be37ce2ead43755d'}  511111819905              Baking   \n",
       "3     {'$oid': '601ac142be37ce2ead43755a'}  511111519874              Baking   \n",
       "4     {'$oid': '601ac142be37ce2ead43755e'}  511111319917      Candy & Sweets   \n",
       "...                                    ...           ...                 ...   \n",
       "1162  {'$oid': '5f77274dbe37ce6b592e90c0'}  511111116752              Baking   \n",
       "1163  {'$oid': '5dc1fca91dda2c0ad7da64ae'}  511111706328  Breakfast & Cereal   \n",
       "1164  {'$oid': '5f494c6e04db711dd8fe87e7'}  511111416173      Candy & Sweets   \n",
       "1165  {'$oid': '5a021611e4b00efe02b02a57'}  511111400608             Grocery   \n",
       "1166  {'$oid': '6026d757be37ce6369301468'}  511111019930              Baking   \n",
       "\n",
       "          categoryCode                                                cpg  \\\n",
       "0               BAKING  {'$id': {'$oid': '601ac114be37ce2ead437550'}, ...   \n",
       "1            BEVERAGES  {'$id': {'$oid': '5332f5fbe4b03c9a25efd0ba'}, ...   \n",
       "2               BAKING  {'$id': {'$oid': '601ac142be37ce2ead437559'}, ...   \n",
       "3               BAKING  {'$id': {'$oid': '601ac142be37ce2ead437559'}, ...   \n",
       "4     CANDY_AND_SWEETS  {'$id': {'$oid': '5332fa12e4b03c9a25efd1e7'}, ...   \n",
       "...                ...                                                ...   \n",
       "1162            BAKING  {'$ref': 'Cogs', '$id': {'$oid': '5f77274dbe37...   \n",
       "1163               NaN  {'$ref': 'Cogs', '$id': {'$oid': '53e10d6368ab...   \n",
       "1164  CANDY_AND_SWEETS  {'$ref': 'Cogs', '$id': {'$oid': '5332fa12e4b0...   \n",
       "1165               NaN  {'$ref': 'Cogs', '$id': {'$oid': '5332f5f6e4b0...   \n",
       "1166            BAKING  {'$id': {'$oid': '6026d757be37ce6369301467'}, ...   \n",
       "\n",
       "                           name  topBrand                      brandCode  \n",
       "0     test brand @1612366101024       0.0                            NaN  \n",
       "1                     Starbucks       0.0                      STARBUCKS  \n",
       "2     test brand @1612366146176       0.0  TEST BRANDCODE @1612366146176  \n",
       "3     test brand @1612366146051       0.0  TEST BRANDCODE @1612366146051  \n",
       "4     test brand @1612366146827       0.0  TEST BRANDCODE @1612366146827  \n",
       "...                         ...       ...                            ...  \n",
       "1162  test brand @1601644365844       NaN                            NaN  \n",
       "1163        Dippin Dots® Cereal       NaN             DIPPIN DOTS CEREAL  \n",
       "1164  test brand @1598639215217       NaN  TEST BRANDCODE @1598639215217  \n",
       "1165          LIPTON TEA Leaves       0.0              LIPTON TEA Leaves  \n",
       "1166  test brand @1613158231643       0.0  TEST BRANDCODE @1613158231644  \n",
       "\n",
       "[1167 rows x 8 columns]"
      ]
     },
     "execution_count": 76,
     "metadata": {},
     "output_type": "execute_result"
    }
   ],
   "source": [
    "brands_df"
   ]
  },
  {
   "cell_type": "markdown",
   "metadata": {},
   "source": [
    "The dataframe has 1167 records with 8 columns. We can see that there is 'NaN' value in column 'categoryCode', 'topBrand', 'brandCode'. So we can check how many of records has this issue."
   ]
  },
  {
   "cell_type": "code",
   "execution_count": 77,
   "metadata": {},
   "outputs": [
    {
     "data": {
      "text/plain": [
       "<AxesSubplot:>"
      ]
     },
     "execution_count": 77,
     "metadata": {},
     "output_type": "execute_result"
    },
    {
     "data": {
      "image/png": "[encoded data removed]",
      "text/plain": [
       "<Figure size 432x288 with 1 Axes>"
      ]
     },
     "metadata": {
      "needs_background": "light"
     },
     "output_type": "display_data"
    }
   ],
   "source": [
    "brands_df.isna().sum().plot(kind='bar')"
   ]
  },
  {
   "cell_type": "markdown",
   "metadata": {},
   "source": [
    "This bar plot shows the counts of null values in each of the column in this data. Considering the total records number is 1167 and we can see the Null value count can be as high as 600. This means nearly half of the data are having null values in those column. This is one issue in the dataset."
   ]
  },
  {
   "cell_type": "markdown",
   "metadata": {},
   "source": [
    "## Part 4. Communicate with Stakeholders\n",
    "### What questions do you have about the data?\n",
    "What is the most important question that the stakeholder want to know? <br>\n",
    "What is the key metric to measure any improvements on sales?<br>\n",
    "\n",
    "### How did you discover the data quality issues?\n",
    "Using pandas dataframe we can easily get the statistical of the datasets and notice quality issues that may have.<br>\n",
    "\n",
    "### What do you need to know to resolve the data quality issues?\n",
    "Firstly, We need to check the data source and see where does the issue comes from. Why there are null values in the data. <br>\n",
    "Then, we need to know does the null value stands for zero or it means not applicable. We need to clarify the meaning. We can decide to correct those by filling in values for the specific meaning.<br>\n",
    "Additionally, We can also put constraints on the table to make sure future data that doesn't meet the constraint will not be permitted in the database.\n",
    "\n",
    "### What other information would you need to help you optimize the data assets you're trying to create?\n",
    "\n",
    "\n",
    "### What performance and scaling concerns do you anticipate in production and how do you plan to address them?\n",
    "In production, the receipt table size will increase as times go by. When the table becomes huge, it will be slow to access the data.\n",
    "We can use partition method to store data. There are vertical partitioning and horizontal partitioning methods. Vertical partitioning can aim at seldomly visited columns and put those on slower physical medium. This can improve query performance. Horizontal partitioning can split the table into different seasons partition or months partition."
   ]
  },
  {
   "cell_type": "code",
   "execution_count": null,
   "metadata": {},
   "outputs": [],
   "source": []
  }
 ],
 "metadata": {
  "kernelspec": {
   "display_name": "Python 3",
   "language": "python",
   "name": "python3"
  },
  "language_info": {
   "codemirror_mode": {
    "name": "ipython",
    "version": 3
   },
   "file_extension": ".py",
   "mimetype": "text/x-python",
   "name": "python",
   "nbconvert_exporter": "python",
   "pygments_lexer": "ipython3",
   "version": "3.8.5"
  }
 },
 "nbformat": 4,
 "nbformat_minor": 4
}
