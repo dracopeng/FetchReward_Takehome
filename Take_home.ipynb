{
 "cells": [
  {
   "cell_type": "markdown",
   "metadata": {},
   "source": [
    "# Fetch Rewards Coding Exercise\n",
    "\n",
    "**To do list:**\n",
    "- Review unstructured JSON data and diagram a new structured relational data model\n",
    "- Generate a query that answers a predetermined business question\n",
    "- Generate a query to capture data quality issues against the new structured relational data model\n",
    "- Write a short email or Slack message to the business stakeholder\n"
   ]
  },
  {
   "cell_type": "markdown",
   "metadata": {},
   "source": [
    "## Part 1. Review Existing Unstructured Data and Diagram a New Structured Relational Data Model"
   ]
  },
  {
   "cell_type": "markdown",
   "metadata": {},
   "source": [
    "Here is my new structured relational data model:\n",
    "First table is Users. It has user_id as primary key and the created_date for this user.<br>\n",
    "CREATE TABLE Users(<br>\n",
    "\\_id integer primary key,<br>\n",
    "created_date datetime,<br>\n",
    ");<br>\n",
    "\n",
    "Second table is Brands. It has brand_id as primary key and the topBrand column to note if the brand is topBrand or not.<br>\n",
    "CREATE TABLE Brands(<br>\n",
    "\\_id integer primary key,<br>\n",
    "topBrand boolean,<br>\n",
    ");<br>\n",
    "\n",
    "Third table is Receipts. It has receipt_id as primary key. users_id as foreign key referenced to Users table. The other date_scanned\n",
    "CREATE TABLE Receipts(<br>\n",
    "\\_id integer primary key,<br>\n",
    "users_id integer,<br>\n",
    "date_scanned datetime,<br>\n",
    "date_purchased datetime,<br>\n",
    "total_number_purchased integer,<br>\n",
    "total_spent float,<br>\n",
    "reward_receipt_status enum,<br>\n",
    ");<br>\n",
    "\n",
    "CREATE TABLE Purchases(<br>\n",
    "receipt_id integer,<br>\n",
    "brand_id integer,<br>\n",
    "quantity,<br>\n",
    "spent,<br>\n",
    ");<br>"
   ]
  },
  {
   "cell_type": "markdown",
   "metadata": {},
   "source": [
    "## Part 2. Write a query that directly answers a predetermined question from a business stakeholder"
   ]
  },
  {
   "cell_type": "markdown",
   "metadata": {},
   "source": [
    "### Question: What are the top 5 brands by receipts scanned for most recent month?\n",
    "Here we will count across recent month for each brands that each brand is scanned. I put specific dates just to simplify.<BR>\n",
    "SQL query:<br>\n",
    "SELECT p.brand_id, count(*) AS 'freq_scanned'<BR>\n",
    "FROM receipts r JOIN purchases p ON r._id=p.receipt_id<BR>\n",
    "WHERE datediff(curdate(),date_scanned) \\<= 30 <BR>\n",
    "GROUP BY p.brand_id<BR>\n",
    "ORDER BY freq_scanned DESC<BR>\n",
    "LIMIT 5<BR>"
   ]
  },
  {
   "cell_type": "markdown",
   "metadata": {},
   "source": [
    "### Question: How does the ranking of the top 5 brands by receipts scanned for the recent month compare to the ranking for the previous month?\n",
    "We can use subquery of the previous month with brand_id and the freq_scanned join with the current month result. Then use window function rank to compare.\n",
    "\n",
    "SQL query: <>\n",
    "SELECT T1.brand_id, rank() over (order by T1.freq_scanned) as 'Recent_month_rank', rank() over (order by T2.freq_scanned) as 'Previous_month_rank' <BR>\n",
    "FROM (<BR>\n",
    "   SELECT p.brand_id, count(\\*) AS 'freq_scanned'<BR>\n",
    "   FROM receipts r JOIN purchases p ON r._id=p.receipt_id<BR>\n",
    "   WHERE datediff(curdate(),date_scanned) \\<= 30 <BR>\n",
    "   GROUP BY p.brand_id<BR>\n",
    "   ORDER BY freq_scanned DESC) T1 <BR>\n",
    "   JOIN (<BR>\n",
    "   SELECT p.brand_id, count(\\*) AS 'freq_scanned'<BR>\n",
    "   FROM receipts r JOIN purchases p ON r._id=p.receipt_id<BR>\n",
    "   WHERE 30 \\< datediff(curdate(),date_scanned) \\<= 60 <BR>\n",
    "   GROUP BY p.brand_id<BR>\n",
    "   ORDER BY freq_scanned DESC) T2 ON T1.brand_id=T2.brand_id<BR>\n",
    "    "
   ]
  },
  {
   "cell_type": "markdown",
   "metadata": {},
   "source": [
    "## Part 3. Evaluate Data Quality Issues in the Data Provided"
   ]
  },
  {
   "cell_type": "markdown",
   "metadata": {},
   "source": [
    "First of all, we need to read in json files and check if what the data looks like."
   ]
  },
  {
   "cell_type": "code",
   "execution_count": 11,
   "metadata": {},
   "outputs": [],
   "source": [
    "import pandas as pd\n",
    "data_dir='./data/FetchReward/'\n",
    "data_file= ['brands','receipts','users']\n",
    "brands_df = pd.read_json(data_dir+data_file[0]+'.json', lines=True)\n",
    "receipts_df = pd.read_json(data_dir+data_file[1]+'.json', lines=True)\n",
    "users_df=pd.read_json(data_dir+data_file[2]+'.json', lines=True)"
   ]
  },
  {
   "cell_type": "code",
   "execution_count": 12,
   "metadata": {},
   "outputs": [
    {
     "data": {
      "text/html": [
       "<div>\n",
       "<style scoped>\n",
       "    .dataframe tbody tr th:only-of-type {\n",
       "        vertical-align: middle;\n",
       "    }\n",
       "\n",
       "    .dataframe tbody tr th {\n",
       "        vertical-align: top;\n",
       "    }\n",
       "\n",
       "    .dataframe thead th {\n",
       "        text-align: right;\n",
       "    }\n",
       "</style>\n",
       "<table border=\"1\" class=\"dataframe\">\n",
       "  <thead>\n",
       "    <tr style=\"text-align: right;\">\n",
       "      <th></th>\n",
       "      <th>_id</th>\n",
       "      <th>barcode</th>\n",
       "      <th>category</th>\n",
       "      <th>categoryCode</th>\n",
       "      <th>cpg</th>\n",
       "      <th>name</th>\n",
       "      <th>topBrand</th>\n",
       "      <th>brandCode</th>\n",
       "    </tr>\n",
       "  </thead>\n",
       "  <tbody>\n",
       "    <tr>\n",
       "      <th>0</th>\n",
       "      <td>{'$oid': '601ac115be37ce2ead437551'}</td>\n",
       "      <td>511111019862</td>\n",
       "      <td>Baking</td>\n",
       "      <td>BAKING</td>\n",
       "      <td>{'$id': {'$oid': '601ac114be37ce2ead437550'}, ...</td>\n",
       "      <td>test brand @1612366101024</td>\n",
       "      <td>0.0</td>\n",
       "      <td>NaN</td>\n",
       "    </tr>\n",
       "    <tr>\n",
       "      <th>1</th>\n",
       "      <td>{'$oid': '601c5460be37ce2ead43755f'}</td>\n",
       "      <td>511111519928</td>\n",
       "      <td>Beverages</td>\n",
       "      <td>BEVERAGES</td>\n",
       "      <td>{'$id': {'$oid': '5332f5fbe4b03c9a25efd0ba'}, ...</td>\n",
       "      <td>Starbucks</td>\n",
       "      <td>0.0</td>\n",
       "      <td>STARBUCKS</td>\n",
       "    </tr>\n",
       "    <tr>\n",
       "      <th>2</th>\n",
       "      <td>{'$oid': '601ac142be37ce2ead43755d'}</td>\n",
       "      <td>511111819905</td>\n",
       "      <td>Baking</td>\n",
       "      <td>BAKING</td>\n",
       "      <td>{'$id': {'$oid': '601ac142be37ce2ead437559'}, ...</td>\n",
       "      <td>test brand @1612366146176</td>\n",
       "      <td>0.0</td>\n",
       "      <td>TEST BRANDCODE @1612366146176</td>\n",
       "    </tr>\n",
       "    <tr>\n",
       "      <th>3</th>\n",
       "      <td>{'$oid': '601ac142be37ce2ead43755a'}</td>\n",
       "      <td>511111519874</td>\n",
       "      <td>Baking</td>\n",
       "      <td>BAKING</td>\n",
       "      <td>{'$id': {'$oid': '601ac142be37ce2ead437559'}, ...</td>\n",
       "      <td>test brand @1612366146051</td>\n",
       "      <td>0.0</td>\n",
       "      <td>TEST BRANDCODE @1612366146051</td>\n",
       "    </tr>\n",
       "    <tr>\n",
       "      <th>4</th>\n",
       "      <td>{'$oid': '601ac142be37ce2ead43755e'}</td>\n",
       "      <td>511111319917</td>\n",
       "      <td>Candy &amp; Sweets</td>\n",
       "      <td>CANDY_AND_SWEETS</td>\n",
       "      <td>{'$id': {'$oid': '5332fa12e4b03c9a25efd1e7'}, ...</td>\n",
       "      <td>test brand @1612366146827</td>\n",
       "      <td>0.0</td>\n",
       "      <td>TEST BRANDCODE @1612366146827</td>\n",
       "    </tr>\n",
       "    <tr>\n",
       "      <th>...</th>\n",
       "      <td>...</td>\n",
       "      <td>...</td>\n",
       "      <td>...</td>\n",
       "      <td>...</td>\n",
       "      <td>...</td>\n",
       "      <td>...</td>\n",
       "      <td>...</td>\n",
       "      <td>...</td>\n",
       "    </tr>\n",
       "    <tr>\n",
       "      <th>1162</th>\n",
       "      <td>{'$oid': '5f77274dbe37ce6b592e90c0'}</td>\n",
       "      <td>511111116752</td>\n",
       "      <td>Baking</td>\n",
       "      <td>BAKING</td>\n",
       "      <td>{'$ref': 'Cogs', '$id': {'$oid': '5f77274dbe37...</td>\n",
       "      <td>test brand @1601644365844</td>\n",
       "      <td>NaN</td>\n",
       "      <td>NaN</td>\n",
       "    </tr>\n",
       "    <tr>\n",
       "      <th>1163</th>\n",
       "      <td>{'$oid': '5dc1fca91dda2c0ad7da64ae'}</td>\n",
       "      <td>511111706328</td>\n",
       "      <td>Breakfast &amp; Cereal</td>\n",
       "      <td>NaN</td>\n",
       "      <td>{'$ref': 'Cogs', '$id': {'$oid': '53e10d6368ab...</td>\n",
       "      <td>Dippin Dots® Cereal</td>\n",
       "      <td>NaN</td>\n",
       "      <td>DIPPIN DOTS CEREAL</td>\n",
       "    </tr>\n",
       "    <tr>\n",
       "      <th>1164</th>\n",
       "      <td>{'$oid': '5f494c6e04db711dd8fe87e7'}</td>\n",
       "      <td>511111416173</td>\n",
       "      <td>Candy &amp; Sweets</td>\n",
       "      <td>CANDY_AND_SWEETS</td>\n",
       "      <td>{'$ref': 'Cogs', '$id': {'$oid': '5332fa12e4b0...</td>\n",
       "      <td>test brand @1598639215217</td>\n",
       "      <td>NaN</td>\n",
       "      <td>TEST BRANDCODE @1598639215217</td>\n",
       "    </tr>\n",
       "    <tr>\n",
       "      <th>1165</th>\n",
       "      <td>{'$oid': '5a021611e4b00efe02b02a57'}</td>\n",
       "      <td>511111400608</td>\n",
       "      <td>Grocery</td>\n",
       "      <td>NaN</td>\n",
       "      <td>{'$ref': 'Cogs', '$id': {'$oid': '5332f5f6e4b0...</td>\n",
       "      <td>LIPTON TEA Leaves</td>\n",
       "      <td>0.0</td>\n",
       "      <td>LIPTON TEA Leaves</td>\n",
       "    </tr>\n",
       "    <tr>\n",
       "      <th>1166</th>\n",
       "      <td>{'$oid': '6026d757be37ce6369301468'}</td>\n",
       "      <td>511111019930</td>\n",
       "      <td>Baking</td>\n",
       "      <td>BAKING</td>\n",
       "      <td>{'$id': {'$oid': '6026d757be37ce6369301467'}, ...</td>\n",
       "      <td>test brand @1613158231643</td>\n",
       "      <td>0.0</td>\n",
       "      <td>TEST BRANDCODE @1613158231644</td>\n",
       "    </tr>\n",
       "  </tbody>\n",
       "</table>\n",
       "<p>1167 rows × 8 columns</p>\n",
       "</div>"
      ],
      "text/plain": [
       "                                       _id       barcode            category  \\\n",
       "0     {'$oid': '601ac115be37ce2ead437551'}  511111019862              Baking   \n",
       "1     {'$oid': '601c5460be37ce2ead43755f'}  511111519928           Beverages   \n",
       "2     {'$oid': '601ac142be37ce2ead43755d'}  511111819905              Baking   \n",
       "3     {'$oid': '601ac142be37ce2ead43755a'}  511111519874              Baking   \n",
       "4     {'$oid': '601ac142be37ce2ead43755e'}  511111319917      Candy & Sweets   \n",
       "...                                    ...           ...                 ...   \n",
       "1162  {'$oid': '5f77274dbe37ce6b592e90c0'}  511111116752              Baking   \n",
       "1163  {'$oid': '5dc1fca91dda2c0ad7da64ae'}  511111706328  Breakfast & Cereal   \n",
       "1164  {'$oid': '5f494c6e04db711dd8fe87e7'}  511111416173      Candy & Sweets   \n",
       "1165  {'$oid': '5a021611e4b00efe02b02a57'}  511111400608             Grocery   \n",
       "1166  {'$oid': '6026d757be37ce6369301468'}  511111019930              Baking   \n",
       "\n",
       "          categoryCode                                                cpg  \\\n",
       "0               BAKING  {'$id': {'$oid': '601ac114be37ce2ead437550'}, ...   \n",
       "1            BEVERAGES  {'$id': {'$oid': '5332f5fbe4b03c9a25efd0ba'}, ...   \n",
       "2               BAKING  {'$id': {'$oid': '601ac142be37ce2ead437559'}, ...   \n",
       "3               BAKING  {'$id': {'$oid': '601ac142be37ce2ead437559'}, ...   \n",
       "4     CANDY_AND_SWEETS  {'$id': {'$oid': '5332fa12e4b03c9a25efd1e7'}, ...   \n",
       "...                ...                                                ...   \n",
       "1162            BAKING  {'$ref': 'Cogs', '$id': {'$oid': '5f77274dbe37...   \n",
       "1163               NaN  {'$ref': 'Cogs', '$id': {'$oid': '53e10d6368ab...   \n",
       "1164  CANDY_AND_SWEETS  {'$ref': 'Cogs', '$id': {'$oid': '5332fa12e4b0...   \n",
       "1165               NaN  {'$ref': 'Cogs', '$id': {'$oid': '5332f5f6e4b0...   \n",
       "1166            BAKING  {'$id': {'$oid': '6026d757be37ce6369301467'}, ...   \n",
       "\n",
       "                           name  topBrand                      brandCode  \n",
       "0     test brand @1612366101024       0.0                            NaN  \n",
       "1                     Starbucks       0.0                      STARBUCKS  \n",
       "2     test brand @1612366146176       0.0  TEST BRANDCODE @1612366146176  \n",
       "3     test brand @1612366146051       0.0  TEST BRANDCODE @1612366146051  \n",
       "4     test brand @1612366146827       0.0  TEST BRANDCODE @1612366146827  \n",
       "...                         ...       ...                            ...  \n",
       "1162  test brand @1601644365844       NaN                            NaN  \n",
       "1163        Dippin Dots® Cereal       NaN             DIPPIN DOTS CEREAL  \n",
       "1164  test brand @1598639215217       NaN  TEST BRANDCODE @1598639215217  \n",
       "1165          LIPTON TEA Leaves       0.0              LIPTON TEA Leaves  \n",
       "1166  test brand @1613158231643       0.0  TEST BRANDCODE @1613158231644  \n",
       "\n",
       "[1167 rows x 8 columns]"
      ]
     },
     "execution_count": 12,
     "metadata": {},
     "output_type": "execute_result"
    }
   ],
   "source": [
    "brands_df"
   ]
  },
  {
   "cell_type": "markdown",
   "metadata": {},
   "source": [
    "The dataframe has 1167 records with 8 columns. We can see that there is 'NaN' value in column 'categoryCode', 'topBrand', 'brandCode'. So we can check how many of records has this issue."
   ]
  },
  {
   "cell_type": "code",
   "execution_count": 13,
   "metadata": {},
   "outputs": [
    {
     "data": {
      "text/plain": [
       "<AxesSubplot:>"
      ]
     },
     "execution_count": 13,
     "metadata": {},
     "output_type": "execute_result"
    },
    {
     "data": {
      "image/png": "[encoded data removed]",
      "text/plain": [
       "<Figure size 432x288 with 1 Axes>"
      ]
     },
     "metadata": {
      "needs_background": "light"
     },
     "output_type": "display_data"
    }
   ],
   "source": [
    "brands_df.isna().sum().plot(kind='bar')"
   ]
  },
  {
   "cell_type": "markdown",
   "metadata": {},
   "source": [
    "This bar plot shows the counts of null values in each of the column in this data. Considering the total records number is 1167 and we can see the Null value count can be as high as 600. This means nearly half of the data are having null values in those column. This is one issue in the dataset."
   ]
  },
  {
   "cell_type": "markdown",
   "metadata": {},
   "source": [
    "## Part 4. Communicate with Stakeholders\n",
    "### What questions do you have about the data?\n",
    "What is the most important question that the stakeholder want to know? <br>\n",
    "What is the key metric to measure any improvements on sales?<br>\n",
    "\n",
    "### How did you discover the data quality issues?\n",
    "Using pandas dataframe we can easily get the statistical of the datasets and notice quality issues that may have.<br>\n",
    "Besides null value, there are nested data column in receipts. \n",
    "\n",
    "### What do you need to know to resolve the data quality issues?\n",
    "Firstly, We need to check the data source and see where does the issue comes from. Why there are null values in the data. <br>\n",
    "Then, we need to know does the null value stands for zero or it means not applicable. We need to clarify the meaning. We can decide to correct those by filling in values for the specific meaning.<br>\n",
    "Additionally, We can also put constraints on the table to make sure future data that doesn't meet the constraint will not be permitted in the database.\n",
    "\n",
    "### What other information would you need to help you optimize the data assets you're trying to create?\n",
    "What data that we don't need so we can make the data table cleaner.<br>\n",
    "What data will be constantly accessed and we can store those data on faster physical medium and improve the performance.<br>\n",
    "what does cpg mean?\n",
    "\n",
    "### What performance and scaling concerns do you anticipate in production and how do you plan to address them?\n",
    "In production, the receipt table size will increase as times go by. When the table becomes huge, it will be slow to access the data.\n",
    "We can use partition method to store data. There are vertical partitioning and horizontal partitioning methods. Vertical partitioning can aim at seldomly visited columns and put those on slower physical medium. This can improve query performance. Horizontal partitioning can split the table into different seasons partition or months partition."
   ]
  },
  {
   "cell_type": "code",
   "execution_count": null,
   "metadata": {},
   "outputs": [],
   "source": []
  }
 ],
 "metadata": {
  "kernelspec": {
   "display_name": "Python 3",
   "language": "python",
   "name": "python3"
  },
  "language_info": {
   "codemirror_mode": {
    "name": "ipython",
    "version": 3
   },
   "file_extension": ".py",
   "mimetype": "text/x-python",
   "name": "python",
   "nbconvert_exporter": "python",
   "pygments_lexer": "ipython3",
   "version": "3.8.5"
  }
 },
 "nbformat": 4,
 "nbformat_minor": 4
}
